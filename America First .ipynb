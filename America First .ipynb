{
 "cells": [
  {
   "cell_type": "code",
   "execution_count": 1,
   "metadata": {},
   "outputs": [],
   "source": [
    "import pandas as pd"
   ]
  },
  {
   "cell_type": "code",
   "execution_count": null,
   "metadata": {},
   "outputs": [],
   "source": [
    "df = pd.read_excel('Itemized Contributions to America First Action.xlsx')"
   ]
  },
  {
   "cell_type": "markdown",
   "metadata": {},
   "source": [
    "# National Contributions"
   ]
  },
  {
   "cell_type": "markdown",
   "metadata": {},
   "source": [
    "From Center for Responsive Politics. Data does not include info for donations under $200. Data use agreement says we can't publish the whole database / make it searchable online."
   ]
  },
  {
   "cell_type": "markdown",
   "metadata": {},
   "source": [
    "Total money"
   ]
  },
  {
   "cell_type": "code",
   "execution_count": 22,
   "metadata": {},
   "outputs": [
    {
     "data": {
      "text/plain": [
       "81734071"
      ]
     },
     "execution_count": 22,
     "metadata": {},
     "output_type": "execute_result"
    }
   ],
   "source": [
    "df.Amount.sum()"
   ]
  },
  {
   "cell_type": "markdown",
   "metadata": {},
   "source": [
    "Money raised over time"
   ]
  },
  {
   "cell_type": "code",
   "execution_count": 24,
   "metadata": {},
   "outputs": [
    {
     "data": {
      "text/plain": [
       "<AxesSubplot:xlabel='Date'>"
      ]
     },
     "execution_count": 24,
     "metadata": {},
     "output_type": "execute_result"
    },
    {
     "data": {
      "image/png": "[encoded data removed]",
      "text/plain": [
       "<Figure size 432x288 with 1 Axes>"
      ]
     },
     "metadata": {
      "needs_background": "light"
     },
     "output_type": "display_data"
    }
   ],
   "source": [
    "pd.DataFrame(df.groupby(by='Date')['Amount'].sum()).reset_index().plot(x='Date', y='Amount')"
   ]
  },
  {
   "cell_type": "markdown",
   "metadata": {},
   "source": [
    "CT is 5th nationally for money raised"
   ]
  },
  {
   "cell_type": "code",
   "execution_count": 28,
   "metadata": {},
   "outputs": [
    {
     "data": {
      "text/html": [
       "<div>\n",
       "<style scoped>\n",
       "    .dataframe tbody tr th:only-of-type {\n",
       "        vertical-align: middle;\n",
       "    }\n",
       "\n",
       "    .dataframe tbody tr th {\n",
       "        vertical-align: top;\n",
       "    }\n",
       "\n",
       "    .dataframe thead th {\n",
       "        text-align: right;\n",
       "    }\n",
       "</style>\n",
       "<table border=\"1\" class=\"dataframe\">\n",
       "  <thead>\n",
       "    <tr style=\"text-align: right;\">\n",
       "      <th></th>\n",
       "      <th>State</th>\n",
       "      <th>Amount</th>\n",
       "    </tr>\n",
       "  </thead>\n",
       "  <tbody>\n",
       "    <tr>\n",
       "      <th>45</th>\n",
       "      <td>VA</td>\n",
       "      <td>15784260</td>\n",
       "    </tr>\n",
       "    <tr>\n",
       "      <th>43</th>\n",
       "      <td>TX</td>\n",
       "      <td>11829305</td>\n",
       "    </tr>\n",
       "    <tr>\n",
       "      <th>9</th>\n",
       "      <td>FL</td>\n",
       "      <td>11205582</td>\n",
       "    </tr>\n",
       "    <tr>\n",
       "      <th>49</th>\n",
       "      <td>WY</td>\n",
       "      <td>10251010</td>\n",
       "    </tr>\n",
       "    <tr>\n",
       "      <th>4</th>\n",
       "      <td>CA</td>\n",
       "      <td>6292065</td>\n",
       "    </tr>\n",
       "    <tr>\n",
       "      <th>35</th>\n",
       "      <td>NY</td>\n",
       "      <td>6247675</td>\n",
       "    </tr>\n",
       "    <tr>\n",
       "      <th>6</th>\n",
       "      <td>CT</td>\n",
       "      <td>5327459</td>\n",
       "    </tr>\n",
       "    <tr>\n",
       "      <th>47</th>\n",
       "      <td>WI</td>\n",
       "      <td>2757550</td>\n",
       "    </tr>\n",
       "    <tr>\n",
       "      <th>2</th>\n",
       "      <td>AR</td>\n",
       "      <td>2503100</td>\n",
       "    </tr>\n",
       "    <tr>\n",
       "      <th>15</th>\n",
       "      <td>IL</td>\n",
       "      <td>2034676</td>\n",
       "    </tr>\n",
       "    <tr>\n",
       "      <th>25</th>\n",
       "      <td>MO</td>\n",
       "      <td>1038250</td>\n",
       "    </tr>\n",
       "    <tr>\n",
       "      <th>10</th>\n",
       "      <td>GA</td>\n",
       "      <td>1035236</td>\n",
       "    </tr>\n",
       "    <tr>\n",
       "      <th>34</th>\n",
       "      <td>NV</td>\n",
       "      <td>1012500</td>\n",
       "    </tr>\n",
       "    <tr>\n",
       "      <th>23</th>\n",
       "      <td>MI</td>\n",
       "      <td>1007500</td>\n",
       "    </tr>\n",
       "    <tr>\n",
       "      <th>42</th>\n",
       "      <td>TN</td>\n",
       "      <td>532520</td>\n",
       "    </tr>\n",
       "    <tr>\n",
       "      <th>37</th>\n",
       "      <td>OK</td>\n",
       "      <td>527740</td>\n",
       "    </tr>\n",
       "    <tr>\n",
       "      <th>32</th>\n",
       "      <td>NJ</td>\n",
       "      <td>523180</td>\n",
       "    </tr>\n",
       "    <tr>\n",
       "      <th>30</th>\n",
       "      <td>NE</td>\n",
       "      <td>502291</td>\n",
       "    </tr>\n",
       "    <tr>\n",
       "      <th>36</th>\n",
       "      <td>OH</td>\n",
       "      <td>455176</td>\n",
       "    </tr>\n",
       "    <tr>\n",
       "      <th>16</th>\n",
       "      <td>IN</td>\n",
       "      <td>305750</td>\n",
       "    </tr>\n",
       "    <tr>\n",
       "      <th>20</th>\n",
       "      <td>MA</td>\n",
       "      <td>174335</td>\n",
       "    </tr>\n",
       "    <tr>\n",
       "      <th>48</th>\n",
       "      <td>WV</td>\n",
       "      <td>100000</td>\n",
       "    </tr>\n",
       "    <tr>\n",
       "      <th>21</th>\n",
       "      <td>MD</td>\n",
       "      <td>72062</td>\n",
       "    </tr>\n",
       "    <tr>\n",
       "      <th>39</th>\n",
       "      <td>PA</td>\n",
       "      <td>57863</td>\n",
       "    </tr>\n",
       "    <tr>\n",
       "      <th>19</th>\n",
       "      <td>LA</td>\n",
       "      <td>32660</td>\n",
       "    </tr>\n",
       "    <tr>\n",
       "      <th>3</th>\n",
       "      <td>AZ</td>\n",
       "      <td>26235</td>\n",
       "    </tr>\n",
       "    <tr>\n",
       "      <th>1</th>\n",
       "      <td>AL</td>\n",
       "      <td>18050</td>\n",
       "    </tr>\n",
       "    <tr>\n",
       "      <th>46</th>\n",
       "      <td>WA</td>\n",
       "      <td>15551</td>\n",
       "    </tr>\n",
       "    <tr>\n",
       "      <th>5</th>\n",
       "      <td>CO</td>\n",
       "      <td>10031</td>\n",
       "    </tr>\n",
       "    <tr>\n",
       "      <th>44</th>\n",
       "      <td>UT</td>\n",
       "      <td>7541</td>\n",
       "    </tr>\n",
       "    <tr>\n",
       "      <th>33</th>\n",
       "      <td>NM</td>\n",
       "      <td>7489</td>\n",
       "    </tr>\n",
       "    <tr>\n",
       "      <th>28</th>\n",
       "      <td>NC</td>\n",
       "      <td>6300</td>\n",
       "    </tr>\n",
       "    <tr>\n",
       "      <th>40</th>\n",
       "      <td>SC</td>\n",
       "      <td>5450</td>\n",
       "    </tr>\n",
       "    <tr>\n",
       "      <th>18</th>\n",
       "      <td>KY</td>\n",
       "      <td>4750</td>\n",
       "    </tr>\n",
       "    <tr>\n",
       "      <th>24</th>\n",
       "      <td>MN</td>\n",
       "      <td>3722</td>\n",
       "    </tr>\n",
       "    <tr>\n",
       "      <th>26</th>\n",
       "      <td>MS</td>\n",
       "      <td>3250</td>\n",
       "    </tr>\n",
       "    <tr>\n",
       "      <th>8</th>\n",
       "      <td>DE</td>\n",
       "      <td>3050</td>\n",
       "    </tr>\n",
       "    <tr>\n",
       "      <th>38</th>\n",
       "      <td>OR</td>\n",
       "      <td>2500</td>\n",
       "    </tr>\n",
       "    <tr>\n",
       "      <th>27</th>\n",
       "      <td>MT</td>\n",
       "      <td>2216</td>\n",
       "    </tr>\n",
       "    <tr>\n",
       "      <th>22</th>\n",
       "      <td>ME</td>\n",
       "      <td>2041</td>\n",
       "    </tr>\n",
       "    <tr>\n",
       "      <th>7</th>\n",
       "      <td>DC</td>\n",
       "      <td>1250</td>\n",
       "    </tr>\n",
       "    <tr>\n",
       "      <th>17</th>\n",
       "      <td>KS</td>\n",
       "      <td>1000</td>\n",
       "    </tr>\n",
       "    <tr>\n",
       "      <th>0</th>\n",
       "      <td>AK</td>\n",
       "      <td>750</td>\n",
       "    </tr>\n",
       "    <tr>\n",
       "      <th>31</th>\n",
       "      <td>NH</td>\n",
       "      <td>750</td>\n",
       "    </tr>\n",
       "    <tr>\n",
       "      <th>29</th>\n",
       "      <td>ND</td>\n",
       "      <td>500</td>\n",
       "    </tr>\n",
       "    <tr>\n",
       "      <th>14</th>\n",
       "      <td>ID</td>\n",
       "      <td>500</td>\n",
       "    </tr>\n",
       "    <tr>\n",
       "      <th>11</th>\n",
       "      <td>GU</td>\n",
       "      <td>500</td>\n",
       "    </tr>\n",
       "    <tr>\n",
       "      <th>41</th>\n",
       "      <td>SD</td>\n",
       "      <td>400</td>\n",
       "    </tr>\n",
       "    <tr>\n",
       "      <th>12</th>\n",
       "      <td>HI</td>\n",
       "      <td>250</td>\n",
       "    </tr>\n",
       "    <tr>\n",
       "      <th>13</th>\n",
       "      <td>IA</td>\n",
       "      <td>250</td>\n",
       "    </tr>\n",
       "  </tbody>\n",
       "</table>\n",
       "</div>"
      ],
      "text/plain": [
       "   State    Amount\n",
       "45    VA  15784260\n",
       "43    TX  11829305\n",
       "9     FL  11205582\n",
       "49    WY  10251010\n",
       "4     CA   6292065\n",
       "35    NY   6247675\n",
       "6     CT   5327459\n",
       "47    WI   2757550\n",
       "2     AR   2503100\n",
       "15    IL   2034676\n",
       "25    MO   1038250\n",
       "10    GA   1035236\n",
       "34    NV   1012500\n",
       "23    MI   1007500\n",
       "42    TN    532520\n",
       "37    OK    527740\n",
       "32    NJ    523180\n",
       "30    NE    502291\n",
       "36    OH    455176\n",
       "16    IN    305750\n",
       "20    MA    174335\n",
       "48    WV    100000\n",
       "21    MD     72062\n",
       "39    PA     57863\n",
       "19    LA     32660\n",
       "3     AZ     26235\n",
       "1     AL     18050\n",
       "46    WA     15551\n",
       "5     CO     10031\n",
       "44    UT      7541\n",
       "33    NM      7489\n",
       "28    NC      6300\n",
       "40    SC      5450\n",
       "18    KY      4750\n",
       "24    MN      3722\n",
       "26    MS      3250\n",
       "8     DE      3050\n",
       "38    OR      2500\n",
       "27    MT      2216\n",
       "22    ME      2041\n",
       "7     DC      1250\n",
       "17    KS      1000\n",
       "0     AK       750\n",
       "31    NH       750\n",
       "29    ND       500\n",
       "14    ID       500\n",
       "11    GU       500\n",
       "41    SD       400\n",
       "12    HI       250\n",
       "13    IA       250"
      ]
     },
     "execution_count": 28,
     "metadata": {},
     "output_type": "execute_result"
    }
   ],
   "source": [
    "pd.DataFrame(df.groupby(by='State')['Amount'].sum()).reset_index().sort_values(by='Amount', ascending=False)"
   ]
  },
  {
   "cell_type": "markdown",
   "metadata": {},
   "source": [
    "# Connecticut Donations"
   ]
  },
  {
   "cell_type": "code",
   "execution_count": 7,
   "metadata": {},
   "outputs": [],
   "source": [
    "df_ct = df[df['State']=='CT'].sort_values(by='Amount', ascending=False)"
   ]
  },
  {
   "cell_type": "markdown",
   "metadata": {},
   "source": [
    "8 contributors in the state"
   ]
  },
  {
   "cell_type": "code",
   "execution_count": 9,
   "metadata": {},
   "outputs": [
    {
     "data": {
      "text/plain": [
       "MCMAHON, LINDA E       9\n",
       "STITZER, MARK          2\n",
       "ANSELMO, REVERGE C     2\n",
       "NORMAN, ROBERT         1\n",
       "CURRAN, WILLIAM        1\n",
       "SKAKEL, GEORGE         1\n",
       "FIELER, SEAN           1\n",
       "MADISON TOWERS, LLC    1\n",
       "Name: Contrib, dtype: int64"
      ]
     },
     "execution_count": 9,
     "metadata": {},
     "output_type": "execute_result"
    }
   ],
   "source": [
    "df_ct.Contrib.value_counts()"
   ]
  },
  {
   "cell_type": "markdown",
   "metadata": {},
   "source": [
    "The money they've raised"
   ]
  },
  {
   "cell_type": "code",
   "execution_count": 11,
   "metadata": {},
   "outputs": [
    {
     "data": {
      "text/plain": [
       "5327459"
      ]
     },
     "execution_count": 11,
     "metadata": {},
     "output_type": "execute_result"
    }
   ],
   "source": [
    "df_ct.Amount.sum()"
   ]
  },
  {
   "cell_type": "markdown",
   "metadata": {},
   "source": [
    "The money they've raised over time"
   ]
  },
  {
   "cell_type": "code",
   "execution_count": 18,
   "metadata": {},
   "outputs": [
    {
     "data": {
      "text/plain": [
       "<AxesSubplot:xlabel='Date'>"
      ]
     },
     "execution_count": 18,
     "metadata": {},
     "output_type": "execute_result"
    },
    {
     "data": {
      "image/png": "[encoded data removed]",
      "text/plain": [
       "<Figure size 432x288 with 1 Axes>"
      ]
     },
     "metadata": {
      "needs_background": "light"
     },
     "output_type": "display_data"
    }
   ],
   "source": [
    "pd.DataFrame(df_ct.groupby(by='Date')['Amount'].sum()).reset_index().plot(x='Date', y='Amount', kind='bar')"
   ]
  },
  {
   "cell_type": "markdown",
   "metadata": {},
   "source": [
    "Linda McMahon"
   ]
  },
  {
   "cell_type": "code",
   "execution_count": 29,
   "metadata": {},
   "outputs": [],
   "source": [
    "df_ct_mcmahon = df_ct[df_ct['Contrib']=='MCMAHON, LINDA E']"
   ]
  },
  {
   "cell_type": "code",
   "execution_count": 30,
   "metadata": {},
   "outputs": [
    {
     "data": {
      "text/html": [
       "<div>\n",
       "<style scoped>\n",
       "    .dataframe tbody tr th:only-of-type {\n",
       "        vertical-align: middle;\n",
       "    }\n",
       "\n",
       "    .dataframe tbody tr th {\n",
       "        vertical-align: top;\n",
       "    }\n",
       "\n",
       "    .dataframe thead th {\n",
       "        text-align: right;\n",
       "    }\n",
       "</style>\n",
       "<table border=\"1\" class=\"dataframe\">\n",
       "  <thead>\n",
       "    <tr style=\"text-align: right;\">\n",
       "      <th></th>\n",
       "      <th>Contrib</th>\n",
       "      <th>City</th>\n",
       "      <th>State</th>\n",
       "      <th>Zip</th>\n",
       "      <th>FECOccEmp</th>\n",
       "      <th>Organization</th>\n",
       "      <th>Parent</th>\n",
       "      <th>Date</th>\n",
       "      <th>Amount</th>\n",
       "      <th>Recipient</th>\n",
       "      <th>Type</th>\n",
       "      <th>Recipid</th>\n",
       "      <th>Microfilm</th>\n",
       "    </tr>\n",
       "  </thead>\n",
       "  <tbody>\n",
       "    <tr>\n",
       "      <th>692</th>\n",
       "      <td>MCMAHON, LINDA E</td>\n",
       "      <td>STAMFORD</td>\n",
       "      <td>CT</td>\n",
       "      <td>6901</td>\n",
       "      <td>AMERICA FIRST ACTION, INC</td>\n",
       "      <td>America First Action/Linda McMahon</td>\n",
       "      <td>NaN</td>\n",
       "      <td>2019-11-15</td>\n",
       "      <td>1000000</td>\n",
       "      <td>America First Action</td>\n",
       "      <td>10</td>\n",
       "      <td>C00637512</td>\n",
       "      <td>2.020013e+17</td>\n",
       "    </tr>\n",
       "    <tr>\n",
       "      <th>697</th>\n",
       "      <td>MCMAHON, LINDA E</td>\n",
       "      <td>STAMFORD</td>\n",
       "      <td>CT</td>\n",
       "      <td>6901</td>\n",
       "      <td>AMERICA FIRST ACTION, INC</td>\n",
       "      <td>America First Action</td>\n",
       "      <td>America First</td>\n",
       "      <td>2020-05-13</td>\n",
       "      <td>1000000</td>\n",
       "      <td>America First Action</td>\n",
       "      <td>10</td>\n",
       "      <td>C00637512</td>\n",
       "      <td>2.020062e+17</td>\n",
       "    </tr>\n",
       "    <tr>\n",
       "      <th>691</th>\n",
       "      <td>MCMAHON, LINDA E</td>\n",
       "      <td>STAMFORD</td>\n",
       "      <td>CT</td>\n",
       "      <td>6901</td>\n",
       "      <td>AMERICA FIRST ACTION, INC</td>\n",
       "      <td>America First Action/Linda McMahon</td>\n",
       "      <td>NaN</td>\n",
       "      <td>2019-05-28</td>\n",
       "      <td>1000000</td>\n",
       "      <td>America First Action</td>\n",
       "      <td>10</td>\n",
       "      <td>C00637512</td>\n",
       "      <td>2.019073e+17</td>\n",
       "    </tr>\n",
       "    <tr>\n",
       "      <th>699</th>\n",
       "      <td>MCMAHON, LINDA E</td>\n",
       "      <td>STAMFORD</td>\n",
       "      <td>CT</td>\n",
       "      <td>6901</td>\n",
       "      <td>AMERICA FIRST ACTION, INC</td>\n",
       "      <td>America First Action</td>\n",
       "      <td>America First</td>\n",
       "      <td>2020-08-28</td>\n",
       "      <td>500000</td>\n",
       "      <td>America First Action</td>\n",
       "      <td>10</td>\n",
       "      <td>C00637512</td>\n",
       "      <td>NaN</td>\n",
       "    </tr>\n",
       "    <tr>\n",
       "      <th>693</th>\n",
       "      <td>MCMAHON, LINDA E</td>\n",
       "      <td>STAMFORD</td>\n",
       "      <td>CT</td>\n",
       "      <td>6901</td>\n",
       "      <td>AMERICA FIRST ACTION, INC</td>\n",
       "      <td>America First Action/Linda McMahon</td>\n",
       "      <td>NaN</td>\n",
       "      <td>2019-12-31</td>\n",
       "      <td>500000</td>\n",
       "      <td>America First Action</td>\n",
       "      <td>10</td>\n",
       "      <td>C00637512</td>\n",
       "      <td>2.020013e+17</td>\n",
       "    </tr>\n",
       "    <tr>\n",
       "      <th>694</th>\n",
       "      <td>MCMAHON, LINDA E</td>\n",
       "      <td>STAMFORD</td>\n",
       "      <td>CT</td>\n",
       "      <td>6901</td>\n",
       "      <td>AMERICA FIRST ACTION, INC</td>\n",
       "      <td>America First Action/Linda McMahon</td>\n",
       "      <td>NaN</td>\n",
       "      <td>2019-12-31</td>\n",
       "      <td>247726</td>\n",
       "      <td>America First Action</td>\n",
       "      <td>10</td>\n",
       "      <td>C00637512</td>\n",
       "      <td>2.020013e+17</td>\n",
       "    </tr>\n",
       "    <tr>\n",
       "      <th>696</th>\n",
       "      <td>MCMAHON, LINDA E</td>\n",
       "      <td>STAMFORD</td>\n",
       "      <td>CT</td>\n",
       "      <td>6901</td>\n",
       "      <td>AMERICA FIRST ACTION, INC</td>\n",
       "      <td>America First Action</td>\n",
       "      <td>America First</td>\n",
       "      <td>2020-04-30</td>\n",
       "      <td>152436</td>\n",
       "      <td>America First Action</td>\n",
       "      <td>10</td>\n",
       "      <td>C00637512</td>\n",
       "      <td>2.020052e+17</td>\n",
       "    </tr>\n",
       "    <tr>\n",
       "      <th>695</th>\n",
       "      <td>MCMAHON, LINDA E</td>\n",
       "      <td>STAMFORD</td>\n",
       "      <td>CT</td>\n",
       "      <td>6901</td>\n",
       "      <td>AMERICA FIRST ACTION, INC</td>\n",
       "      <td>America First Action</td>\n",
       "      <td>America First</td>\n",
       "      <td>2020-03-31</td>\n",
       "      <td>123014</td>\n",
       "      <td>America First Action</td>\n",
       "      <td>10</td>\n",
       "      <td>C00637512</td>\n",
       "      <td>2.020042e+17</td>\n",
       "    </tr>\n",
       "    <tr>\n",
       "      <th>698</th>\n",
       "      <td>MCMAHON, LINDA E</td>\n",
       "      <td>STAMFORD</td>\n",
       "      <td>CT</td>\n",
       "      <td>6901</td>\n",
       "      <td>AMERICA FIRST ACTION, INC</td>\n",
       "      <td>America First Action</td>\n",
       "      <td>America First</td>\n",
       "      <td>2020-07-25</td>\n",
       "      <td>17533</td>\n",
       "      <td>America First Action</td>\n",
       "      <td>10</td>\n",
       "      <td>C00637512</td>\n",
       "      <td>2.020082e+17</td>\n",
       "    </tr>\n",
       "  </tbody>\n",
       "</table>\n",
       "</div>"
      ],
      "text/plain": [
       "              Contrib      City State   Zip                  FECOccEmp  \\\n",
       "692  MCMAHON, LINDA E  STAMFORD    CT  6901  AMERICA FIRST ACTION, INC   \n",
       "697  MCMAHON, LINDA E  STAMFORD    CT  6901  AMERICA FIRST ACTION, INC   \n",
       "691  MCMAHON, LINDA E  STAMFORD    CT  6901  AMERICA FIRST ACTION, INC   \n",
       "699  MCMAHON, LINDA E  STAMFORD    CT  6901  AMERICA FIRST ACTION, INC   \n",
       "693  MCMAHON, LINDA E  STAMFORD    CT  6901  AMERICA FIRST ACTION, INC   \n",
       "694  MCMAHON, LINDA E  STAMFORD    CT  6901  AMERICA FIRST ACTION, INC   \n",
       "696  MCMAHON, LINDA E  STAMFORD    CT  6901  AMERICA FIRST ACTION, INC   \n",
       "695  MCMAHON, LINDA E  STAMFORD    CT  6901  AMERICA FIRST ACTION, INC   \n",
       "698  MCMAHON, LINDA E  STAMFORD    CT  6901  AMERICA FIRST ACTION, INC   \n",
       "\n",
       "                           Organization         Parent       Date   Amount  \\\n",
       "692  America First Action/Linda McMahon            NaN 2019-11-15  1000000   \n",
       "697                America First Action  America First 2020-05-13  1000000   \n",
       "691  America First Action/Linda McMahon            NaN 2019-05-28  1000000   \n",
       "699                America First Action  America First 2020-08-28   500000   \n",
       "693  America First Action/Linda McMahon            NaN 2019-12-31   500000   \n",
       "694  America First Action/Linda McMahon            NaN 2019-12-31   247726   \n",
       "696                America First Action  America First 2020-04-30   152436   \n",
       "695                America First Action  America First 2020-03-31   123014   \n",
       "698                America First Action  America First 2020-07-25    17533   \n",
       "\n",
       "                Recipient Type    Recipid     Microfilm  \n",
       "692  America First Action   10  C00637512  2.020013e+17  \n",
       "697  America First Action   10  C00637512  2.020062e+17  \n",
       "691  America First Action   10  C00637512  2.019073e+17  \n",
       "699  America First Action   10  C00637512           NaN  \n",
       "693  America First Action   10  C00637512  2.020013e+17  \n",
       "694  America First Action   10  C00637512  2.020013e+17  \n",
       "696  America First Action   10  C00637512  2.020052e+17  \n",
       "695  America First Action   10  C00637512  2.020042e+17  \n",
       "698  America First Action   10  C00637512  2.020082e+17  "
      ]
     },
     "execution_count": 30,
     "metadata": {},
     "output_type": "execute_result"
    }
   ],
   "source": [
    "df_ct_mcmahon"
   ]
  },
  {
   "cell_type": "markdown",
   "metadata": {},
   "source": [
    "Money from McMahon"
   ]
  },
  {
   "cell_type": "code",
   "execution_count": 31,
   "metadata": {},
   "outputs": [
    {
     "data": {
      "text/plain": [
       "4540709"
      ]
     },
     "execution_count": 31,
     "metadata": {},
     "output_type": "execute_result"
    }
   ],
   "source": [
    "df_ct_mcmahon.Amount.sum()"
   ]
  },
  {
   "cell_type": "markdown",
   "metadata": {},
   "source": [
    "Money from McMahon over time"
   ]
  },
  {
   "cell_type": "code",
   "execution_count": 32,
   "metadata": {},
   "outputs": [
    {
     "data": {
      "text/plain": [
       "<AxesSubplot:xlabel='Date'>"
      ]
     },
     "execution_count": 32,
     "metadata": {},
     "output_type": "execute_result"
    },
    {
     "data": {
      "image/png": "[encoded data removed]",
      "text/plain": [
       "<Figure size 432x288 with 1 Axes>"
      ]
     },
     "metadata": {
      "needs_background": "light"
     },
     "output_type": "display_data"
    }
   ],
   "source": [
    "pd.DataFrame(df_ct_mcmahon.groupby(by='Date')['Amount'].sum()).reset_index().plot(x='Date', y='Amount', kind='bar')"
   ]
  }
 ],
 "metadata": {
  "kernelspec": {
   "display_name": "Python 3",
   "language": "python",
   "name": "python3"
  },
  "language_info": {
   "codemirror_mode": {
    "name": "ipython",
    "version": 3
   },
   "file_extension": ".py",
   "mimetype": "text/x-python",
   "name": "python",
   "nbconvert_exporter": "python",
   "pygments_lexer": "ipython3",
   "version": "3.7.1"
  }
 },
 "nbformat": 4,
 "nbformat_minor": 4
}
